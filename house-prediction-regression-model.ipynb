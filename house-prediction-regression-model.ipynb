{
 "cells": [
  {
   "cell_type": "code",
   "execution_count": 1,
   "id": "ecd543c7",
   "metadata": {
    "_cell_guid": "b1076dfc-b9ad-4769-8c92-a6c4dae69d19",
    "_uuid": "8f2839f25d086af736a60e9eeb907d3b93b6e0e5",
    "execution": {
     "iopub.execute_input": "2025-03-07T16:20:00.162674Z",
     "iopub.status.busy": "2025-03-07T16:20:00.162124Z",
     "iopub.status.idle": "2025-03-07T16:20:01.076948Z",
     "shell.execute_reply": "2025-03-07T16:20:01.075844Z"
    },
    "papermill": {
     "duration": 0.922941,
     "end_time": "2025-03-07T16:20:01.078865",
     "exception": false,
     "start_time": "2025-03-07T16:20:00.155924",
     "status": "completed"
    },
    "tags": []
   },
   "outputs": [],
   "source": [
    "# This Python 3 environment comes with many helpful analytics libraries installed\n",
    "# It is defined by the kaggle/python Docker image: https://github.com/kaggle/docker-python\n",
    "# For example, here's several helpful packages to load\n",
    "\n",
    "import numpy as np # linear algebra\n",
    "import pandas as pd # data processing, CSV file I/O (e.g. pd.read_csv)\n",
    "\n",
    "# Input data files are available in the read-only \"../input/\" directory\n",
    "# For example, running this (by clicking run or pressing Shift+Enter) will list all files under the input directory\n",
    "\n",
    "import os\n",
    "for dirname, _, filenames in os.walk('/kaggle/input'):\n",
    "    for filename in filenames:\n",
    "        print(os.path.join(dirname, filename))\n",
    "\n",
    "import warnings\n",
    "warnings.filterwarnings(\"ignore\")\n",
    "\n",
    "# You can write up to 20GB to the current directory (/kaggle/working/) that gets preserved as output when you create a version using \"Save & Run All\" \n",
    "# You can also write temporary files to /kaggle/temp/, but they won't be saved outside of the current session"
   ]
  },
  {
   "cell_type": "code",
   "execution_count": 2,
   "id": "2f4ca742",
   "metadata": {
    "execution": {
     "iopub.execute_input": "2025-03-07T16:20:01.089222Z",
     "iopub.status.busy": "2025-03-07T16:20:01.088721Z",
     "iopub.status.idle": "2025-03-07T16:20:09.221721Z",
     "shell.execute_reply": "2025-03-07T16:20:09.220546Z"
    },
    "papermill": {
     "duration": 8.140187,
     "end_time": "2025-03-07T16:20:09.223698",
     "exception": false,
     "start_time": "2025-03-07T16:20:01.083511",
     "status": "completed"
    },
    "tags": []
   },
   "outputs": [],
   "source": [
    "from sklearn.datasets import fetch_california_housing\n",
    "import pandas as pd\n",
    "\n",
    "# Load dataset\n",
    "data = fetch_california_housing()\n",
    "\n",
    "# Convert to DataFrame\n",
    "df = pd.DataFrame(data.data, columns=data.feature_names)\n",
    "df[\"Price\"] = data.target"
   ]
  },
  {
   "cell_type": "code",
   "execution_count": 3,
   "id": "d93585eb",
   "metadata": {
    "execution": {
     "iopub.execute_input": "2025-03-07T16:20:09.233162Z",
     "iopub.status.busy": "2025-03-07T16:20:09.232674Z",
     "iopub.status.idle": "2025-03-07T16:20:09.290731Z",
     "shell.execute_reply": "2025-03-07T16:20:09.289638Z"
    },
    "papermill": {
     "duration": 0.064377,
     "end_time": "2025-03-07T16:20:09.292315",
     "exception": false,
     "start_time": "2025-03-07T16:20:09.227938",
     "status": "completed"
    },
    "tags": []
   },
   "outputs": [
    {
     "data": {
      "text/html": [
       "<div>\n",
       "<style scoped>\n",
       "    .dataframe tbody tr th:only-of-type {\n",
       "        vertical-align: middle;\n",
       "    }\n",
       "\n",
       "    .dataframe tbody tr th {\n",
       "        vertical-align: top;\n",
       "    }\n",
       "\n",
       "    .dataframe thead th {\n",
       "        text-align: right;\n",
       "    }\n",
       "</style>\n",
       "<table border=\"1\" class=\"dataframe\">\n",
       "  <thead>\n",
       "    <tr style=\"text-align: right;\">\n",
       "      <th></th>\n",
       "      <th>MedInc</th>\n",
       "      <th>HouseAge</th>\n",
       "      <th>AveRooms</th>\n",
       "      <th>AveBedrms</th>\n",
       "      <th>Population</th>\n",
       "      <th>AveOccup</th>\n",
       "      <th>Latitude</th>\n",
       "      <th>Longitude</th>\n",
       "      <th>Price</th>\n",
       "    </tr>\n",
       "  </thead>\n",
       "  <tbody>\n",
       "    <tr>\n",
       "      <th>count</th>\n",
       "      <td>20640.000000</td>\n",
       "      <td>20640.000000</td>\n",
       "      <td>20640.000000</td>\n",
       "      <td>20640.000000</td>\n",
       "      <td>20640.000000</td>\n",
       "      <td>20640.000000</td>\n",
       "      <td>20640.000000</td>\n",
       "      <td>20640.000000</td>\n",
       "      <td>20640.000000</td>\n",
       "    </tr>\n",
       "    <tr>\n",
       "      <th>mean</th>\n",
       "      <td>3.870671</td>\n",
       "      <td>28.639486</td>\n",
       "      <td>5.429000</td>\n",
       "      <td>1.096675</td>\n",
       "      <td>1425.476744</td>\n",
       "      <td>3.070655</td>\n",
       "      <td>35.631861</td>\n",
       "      <td>-119.569704</td>\n",
       "      <td>2.068558</td>\n",
       "    </tr>\n",
       "    <tr>\n",
       "      <th>std</th>\n",
       "      <td>1.899822</td>\n",
       "      <td>12.585558</td>\n",
       "      <td>2.474173</td>\n",
       "      <td>0.473911</td>\n",
       "      <td>1132.462122</td>\n",
       "      <td>10.386050</td>\n",
       "      <td>2.135952</td>\n",
       "      <td>2.003532</td>\n",
       "      <td>1.153956</td>\n",
       "    </tr>\n",
       "    <tr>\n",
       "      <th>min</th>\n",
       "      <td>0.499900</td>\n",
       "      <td>1.000000</td>\n",
       "      <td>0.846154</td>\n",
       "      <td>0.333333</td>\n",
       "      <td>3.000000</td>\n",
       "      <td>0.692308</td>\n",
       "      <td>32.540000</td>\n",
       "      <td>-124.350000</td>\n",
       "      <td>0.149990</td>\n",
       "    </tr>\n",
       "    <tr>\n",
       "      <th>25%</th>\n",
       "      <td>2.563400</td>\n",
       "      <td>18.000000</td>\n",
       "      <td>4.440716</td>\n",
       "      <td>1.006079</td>\n",
       "      <td>787.000000</td>\n",
       "      <td>2.429741</td>\n",
       "      <td>33.930000</td>\n",
       "      <td>-121.800000</td>\n",
       "      <td>1.196000</td>\n",
       "    </tr>\n",
       "    <tr>\n",
       "      <th>50%</th>\n",
       "      <td>3.534800</td>\n",
       "      <td>29.000000</td>\n",
       "      <td>5.229129</td>\n",
       "      <td>1.048780</td>\n",
       "      <td>1166.000000</td>\n",
       "      <td>2.818116</td>\n",
       "      <td>34.260000</td>\n",
       "      <td>-118.490000</td>\n",
       "      <td>1.797000</td>\n",
       "    </tr>\n",
       "    <tr>\n",
       "      <th>75%</th>\n",
       "      <td>4.743250</td>\n",
       "      <td>37.000000</td>\n",
       "      <td>6.052381</td>\n",
       "      <td>1.099526</td>\n",
       "      <td>1725.000000</td>\n",
       "      <td>3.282261</td>\n",
       "      <td>37.710000</td>\n",
       "      <td>-118.010000</td>\n",
       "      <td>2.647250</td>\n",
       "    </tr>\n",
       "    <tr>\n",
       "      <th>max</th>\n",
       "      <td>15.000100</td>\n",
       "      <td>52.000000</td>\n",
       "      <td>141.909091</td>\n",
       "      <td>34.066667</td>\n",
       "      <td>35682.000000</td>\n",
       "      <td>1243.333333</td>\n",
       "      <td>41.950000</td>\n",
       "      <td>-114.310000</td>\n",
       "      <td>5.000010</td>\n",
       "    </tr>\n",
       "  </tbody>\n",
       "</table>\n",
       "</div>"
      ],
      "text/plain": [
       "             MedInc      HouseAge      AveRooms     AveBedrms    Population  \\\n",
       "count  20640.000000  20640.000000  20640.000000  20640.000000  20640.000000   \n",
       "mean       3.870671     28.639486      5.429000      1.096675   1425.476744   \n",
       "std        1.899822     12.585558      2.474173      0.473911   1132.462122   \n",
       "min        0.499900      1.000000      0.846154      0.333333      3.000000   \n",
       "25%        2.563400     18.000000      4.440716      1.006079    787.000000   \n",
       "50%        3.534800     29.000000      5.229129      1.048780   1166.000000   \n",
       "75%        4.743250     37.000000      6.052381      1.099526   1725.000000   \n",
       "max       15.000100     52.000000    141.909091     34.066667  35682.000000   \n",
       "\n",
       "           AveOccup      Latitude     Longitude         Price  \n",
       "count  20640.000000  20640.000000  20640.000000  20640.000000  \n",
       "mean       3.070655     35.631861   -119.569704      2.068558  \n",
       "std       10.386050      2.135952      2.003532      1.153956  \n",
       "min        0.692308     32.540000   -124.350000      0.149990  \n",
       "25%        2.429741     33.930000   -121.800000      1.196000  \n",
       "50%        2.818116     34.260000   -118.490000      1.797000  \n",
       "75%        3.282261     37.710000   -118.010000      2.647250  \n",
       "max     1243.333333     41.950000   -114.310000      5.000010  "
      ]
     },
     "execution_count": 3,
     "metadata": {},
     "output_type": "execute_result"
    }
   ],
   "source": [
    "df.describe()"
   ]
  },
  {
   "cell_type": "code",
   "execution_count": 4,
   "id": "36dbdbc1",
   "metadata": {
    "execution": {
     "iopub.execute_input": "2025-03-07T16:20:09.301880Z",
     "iopub.status.busy": "2025-03-07T16:20:09.301557Z",
     "iopub.status.idle": "2025-03-07T16:20:09.325682Z",
     "shell.execute_reply": "2025-03-07T16:20:09.324246Z"
    },
    "papermill": {
     "duration": 0.030967,
     "end_time": "2025-03-07T16:20:09.327598",
     "exception": false,
     "start_time": "2025-03-07T16:20:09.296631",
     "status": "completed"
    },
    "tags": []
   },
   "outputs": [
    {
     "name": "stdout",
     "output_type": "stream",
     "text": [
      "<class 'pandas.core.frame.DataFrame'>\n",
      "RangeIndex: 20640 entries, 0 to 20639\n",
      "Data columns (total 9 columns):\n",
      " #   Column      Non-Null Count  Dtype  \n",
      "---  ------      --------------  -----  \n",
      " 0   MedInc      20640 non-null  float64\n",
      " 1   HouseAge    20640 non-null  float64\n",
      " 2   AveRooms    20640 non-null  float64\n",
      " 3   AveBedrms   20640 non-null  float64\n",
      " 4   Population  20640 non-null  float64\n",
      " 5   AveOccup    20640 non-null  float64\n",
      " 6   Latitude    20640 non-null  float64\n",
      " 7   Longitude   20640 non-null  float64\n",
      " 8   Price       20640 non-null  float64\n",
      "dtypes: float64(9)\n",
      "memory usage: 1.4 MB\n"
     ]
    }
   ],
   "source": [
    "df.info()"
   ]
  },
  {
   "cell_type": "code",
   "execution_count": 5,
   "id": "7d4334f5",
   "metadata": {
    "execution": {
     "iopub.execute_input": "2025-03-07T16:20:09.338551Z",
     "iopub.status.busy": "2025-03-07T16:20:09.338181Z",
     "iopub.status.idle": "2025-03-07T16:20:09.345590Z",
     "shell.execute_reply": "2025-03-07T16:20:09.344341Z"
    },
    "papermill": {
     "duration": 0.014678,
     "end_time": "2025-03-07T16:20:09.347232",
     "exception": false,
     "start_time": "2025-03-07T16:20:09.332554",
     "status": "completed"
    },
    "tags": []
   },
   "outputs": [
    {
     "data": {
      "text/plain": [
       "MedInc        float64\n",
       "HouseAge      float64\n",
       "AveRooms      float64\n",
       "AveBedrms     float64\n",
       "Population    float64\n",
       "AveOccup      float64\n",
       "Latitude      float64\n",
       "Longitude     float64\n",
       "Price         float64\n",
       "dtype: object"
      ]
     },
     "execution_count": 5,
     "metadata": {},
     "output_type": "execute_result"
    }
   ],
   "source": [
    "df.dtypes"
   ]
  },
  {
   "cell_type": "code",
   "execution_count": 6,
   "id": "7338273e",
   "metadata": {
    "execution": {
     "iopub.execute_input": "2025-03-07T16:20:09.357709Z",
     "iopub.status.busy": "2025-03-07T16:20:09.357226Z",
     "iopub.status.idle": "2025-03-07T16:20:09.877339Z",
     "shell.execute_reply": "2025-03-07T16:20:09.876384Z"
    },
    "papermill": {
     "duration": 0.527389,
     "end_time": "2025-03-07T16:20:09.879215",
     "exception": false,
     "start_time": "2025-03-07T16:20:09.351826",
     "status": "completed"
    },
    "tags": []
   },
   "outputs": [],
   "source": [
    "import seaborn as sns"
   ]
  },
  {
   "cell_type": "code",
   "execution_count": 7,
   "id": "769c33ef",
   "metadata": {
    "execution": {
     "iopub.execute_input": "2025-03-07T16:20:09.890010Z",
     "iopub.status.busy": "2025-03-07T16:20:09.889415Z",
     "iopub.status.idle": "2025-03-07T16:20:10.504618Z",
     "shell.execute_reply": "2025-03-07T16:20:10.503558Z"
    },
    "papermill": {
     "duration": 0.623223,
     "end_time": "2025-03-07T16:20:10.507185",
     "exception": false,
     "start_time": "2025-03-07T16:20:09.883962",
     "status": "completed"
    },
    "tags": []
   },
   "outputs": [
    {
     "data": {
      "text/plain": [
       "<Axes: >"
      ]
     },
     "execution_count": 7,
     "metadata": {},
     "output_type": "execute_result"
    },
    {
     "data": {
      "image/png": "[encoded data removed]",
      "text/plain": [
       "<Figure size 640x480 with 2 Axes>"
      ]
     },
     "metadata": {},
     "output_type": "display_data"
    }
   ],
   "source": [
    "sns.heatmap(df.corr(), annot=True, fmt=\".2f\")"
   ]
  },
  {
   "cell_type": "code",
   "execution_count": 8,
   "id": "cc80ba5b",
   "metadata": {
    "execution": {
     "iopub.execute_input": "2025-03-07T16:20:10.521406Z",
     "iopub.status.busy": "2025-03-07T16:20:10.521034Z",
     "iopub.status.idle": "2025-03-07T16:20:10.526885Z",
     "shell.execute_reply": "2025-03-07T16:20:10.525857Z"
    },
    "papermill": {
     "duration": 0.014504,
     "end_time": "2025-03-07T16:20:10.528363",
     "exception": false,
     "start_time": "2025-03-07T16:20:10.513859",
     "status": "completed"
    },
    "tags": []
   },
   "outputs": [
    {
     "data": {
      "text/plain": [
       "Index(['MedInc', 'HouseAge', 'AveRooms', 'AveBedrms', 'Population', 'AveOccup',\n",
       "       'Latitude', 'Longitude', 'Price'],\n",
       "      dtype='object')"
      ]
     },
     "execution_count": 8,
     "metadata": {},
     "output_type": "execute_result"
    }
   ],
   "source": [
    "df.columns\n"
   ]
  },
  {
   "cell_type": "code",
   "execution_count": 9,
   "id": "22d5af77",
   "metadata": {
    "execution": {
     "iopub.execute_input": "2025-03-07T16:20:10.542470Z",
     "iopub.status.busy": "2025-03-07T16:20:10.542066Z",
     "iopub.status.idle": "2025-03-07T16:20:10.553360Z",
     "shell.execute_reply": "2025-03-07T16:20:10.552229Z"
    },
    "papermill": {
     "duration": 0.020205,
     "end_time": "2025-03-07T16:20:10.555025",
     "exception": false,
     "start_time": "2025-03-07T16:20:10.534820",
     "status": "completed"
    },
    "tags": []
   },
   "outputs": [],
   "source": [
    "X = df.copy()\n",
    "X[\"Rooms_per_Household\"] = X[\"AveRooms\"] / X[\"AveOccup\"]\n",
    "X[\"Bedrooms_per_Room\"] = X[\"AveBedrms\"] / X[\"AveRooms\"]\n",
    "X[\"Population_Density\"] = X[\"Population\"] / X[\"AveOccup\"]\n",
    "y = X.pop(\"Price\")\n"
   ]
  },
  {
   "cell_type": "code",
   "execution_count": 10,
   "id": "ef903ebf",
   "metadata": {
    "execution": {
     "iopub.execute_input": "2025-03-07T16:20:10.569174Z",
     "iopub.status.busy": "2025-03-07T16:20:10.568823Z",
     "iopub.status.idle": "2025-03-07T16:20:11.235482Z",
     "shell.execute_reply": "2025-03-07T16:20:11.234521Z"
    },
    "papermill": {
     "duration": 0.676001,
     "end_time": "2025-03-07T16:20:11.237540",
     "exception": false,
     "start_time": "2025-03-07T16:20:10.561539",
     "status": "completed"
    },
    "tags": []
   },
   "outputs": [],
   "source": [
    "from sklearn.preprocessing import StandardScaler\n",
    "from sklearn.pipeline import Pipeline\n",
    "from sklearn.model_selection import train_test_split\n",
    "from sklearn.ensemble import RandomForestRegressor\n",
    "from sklearn.model_selection import train_test_split\n",
    "from sklearn.linear_model import LinearRegression"
   ]
  },
  {
   "cell_type": "code",
   "execution_count": 11,
   "id": "1c0daa00",
   "metadata": {
    "execution": {
     "iopub.execute_input": "2025-03-07T16:20:11.252004Z",
     "iopub.status.busy": "2025-03-07T16:20:11.251670Z",
     "iopub.status.idle": "2025-03-07T16:20:11.260728Z",
     "shell.execute_reply": "2025-03-07T16:20:11.259738Z"
    },
    "papermill": {
     "duration": 0.01812,
     "end_time": "2025-03-07T16:20:11.262350",
     "exception": false,
     "start_time": "2025-03-07T16:20:11.244230",
     "status": "completed"
    },
    "tags": []
   },
   "outputs": [],
   "source": [
    "X_train, X_test, y_train, y_test = train_test_split(X, y, test_size=0.2)"
   ]
  },
  {
   "cell_type": "code",
   "execution_count": 12,
   "id": "6ce9d4b7",
   "metadata": {
    "execution": {
     "iopub.execute_input": "2025-03-07T16:20:11.276648Z",
     "iopub.status.busy": "2025-03-07T16:20:11.276251Z",
     "iopub.status.idle": "2025-03-07T16:20:11.280520Z",
     "shell.execute_reply": "2025-03-07T16:20:11.279647Z"
    },
    "papermill": {
     "duration": 0.013102,
     "end_time": "2025-03-07T16:20:11.282104",
     "exception": false,
     "start_time": "2025-03-07T16:20:11.269002",
     "status": "completed"
    },
    "tags": []
   },
   "outputs": [],
   "source": [
    "pipeline = Pipeline([\n",
    "    (\"scaler\", StandardScaler()),\n",
    "    (\"model\", RandomForestRegressor(random_state=42, n_estimators=200))\n",
    "])\n"
   ]
  },
  {
   "cell_type": "code",
   "execution_count": 13,
   "id": "a07cb568",
   "metadata": {
    "execution": {
     "iopub.execute_input": "2025-03-07T16:20:11.296547Z",
     "iopub.status.busy": "2025-03-07T16:20:11.296160Z",
     "iopub.status.idle": "2025-03-07T16:20:46.727188Z",
     "shell.execute_reply": "2025-03-07T16:20:46.726058Z"
    },
    "papermill": {
     "duration": 35.44708,
     "end_time": "2025-03-07T16:20:46.735682",
     "exception": false,
     "start_time": "2025-03-07T16:20:11.288602",
     "status": "completed"
    },
    "tags": []
   },
   "outputs": [
    {
     "data": {
      "text/html": [
       "<style>#sk-container-id-1 {color: black;background-color: white;}#sk-container-id-1 pre{padding: 0;}#sk-container-id-1 div.sk-toggleable {background-color: white;}#sk-container-id-1 label.sk-toggleable__label {cursor: pointer;display: block;width: 100%;margin-bottom: 0;padding: 0.3em;box-sizing: border-box;text-align: center;}#sk-container-id-1 label.sk-toggleable__label-arrow:before {content: \"▸\";float: left;margin-right: 0.25em;color: #696969;}#sk-container-id-1 label.sk-toggleable__label-arrow:hover:before {color: black;}#sk-container-id-1 div.sk-estimator:hover label.sk-toggleable__label-arrow:before {color: black;}#sk-container-id-1 div.sk-toggleable__content {max-height: 0;max-width: 0;overflow: hidden;text-align: left;background-color: #f0f8ff;}#sk-container-id-1 div.sk-toggleable__content pre {margin: 0.2em;color: black;border-radius: 0.25em;background-color: #f0f8ff;}#sk-container-id-1 input.sk-toggleable__control:checked~div.sk-toggleable__content {max-height: 200px;max-width: 100%;overflow: auto;}#sk-container-id-1 input.sk-toggleable__control:checked~label.sk-toggleable__label-arrow:before {content: \"▾\";}#sk-container-id-1 div.sk-estimator input.sk-toggleable__control:checked~label.sk-toggleable__label {background-color: #d4ebff;}#sk-container-id-1 div.sk-label input.sk-toggleable__control:checked~label.sk-toggleable__label {background-color: #d4ebff;}#sk-container-id-1 input.sk-hidden--visually {border: 0;clip: rect(1px 1px 1px 1px);clip: rect(1px, 1px, 1px, 1px);height: 1px;margin: -1px;overflow: hidden;padding: 0;position: absolute;width: 1px;}#sk-container-id-1 div.sk-estimator {font-family: monospace;background-color: #f0f8ff;border: 1px dotted black;border-radius: 0.25em;box-sizing: border-box;margin-bottom: 0.5em;}#sk-container-id-1 div.sk-estimator:hover {background-color: #d4ebff;}#sk-container-id-1 div.sk-parallel-item::after {content: \"\";width: 100%;border-bottom: 1px solid gray;flex-grow: 1;}#sk-container-id-1 div.sk-label:hover label.sk-toggleable__label {background-color: #d4ebff;}#sk-container-id-1 div.sk-serial::before {content: \"\";position: absolute;border-left: 1px solid gray;box-sizing: border-box;top: 0;bottom: 0;left: 50%;z-index: 0;}#sk-container-id-1 div.sk-serial {display: flex;flex-direction: column;align-items: center;background-color: white;padding-right: 0.2em;padding-left: 0.2em;position: relative;}#sk-container-id-1 div.sk-item {position: relative;z-index: 1;}#sk-container-id-1 div.sk-parallel {display: flex;align-items: stretch;justify-content: center;background-color: white;position: relative;}#sk-container-id-1 div.sk-item::before, #sk-container-id-1 div.sk-parallel-item::before {content: \"\";position: absolute;border-left: 1px solid gray;box-sizing: border-box;top: 0;bottom: 0;left: 50%;z-index: -1;}#sk-container-id-1 div.sk-parallel-item {display: flex;flex-direction: column;z-index: 1;position: relative;background-color: white;}#sk-container-id-1 div.sk-parallel-item:first-child::after {align-self: flex-end;width: 50%;}#sk-container-id-1 div.sk-parallel-item:last-child::after {align-self: flex-start;width: 50%;}#sk-container-id-1 div.sk-parallel-item:only-child::after {width: 0;}#sk-container-id-1 div.sk-dashed-wrapped {border: 1px dashed gray;margin: 0 0.4em 0.5em 0.4em;box-sizing: border-box;padding-bottom: 0.4em;background-color: white;}#sk-container-id-1 div.sk-label label {font-family: monospace;font-weight: bold;display: inline-block;line-height: 1.2em;}#sk-container-id-1 div.sk-label-container {text-align: center;}#sk-container-id-1 div.sk-container {/* jupyter's `normalize.less` sets `[hidden] { display: none; }` but bootstrap.min.css set `[hidden] { display: none !important; }` so we also need the `!important` here to be able to override the default hidden behavior on the sphinx rendered scikit-learn.org. See: https://github.com/scikit-learn/scikit-learn/issues/21755 */display: inline-block !important;position: relative;}#sk-container-id-1 div.sk-text-repr-fallback {display: none;}</style><div id=\"sk-container-id-1\" class=\"sk-top-container\"><div class=\"sk-text-repr-fallback\"><pre>Pipeline(steps=[(&#x27;scaler&#x27;, StandardScaler()),\n",
       "                (&#x27;model&#x27;,\n",
       "                 RandomForestRegressor(n_estimators=200, random_state=42))])</pre><b>In a Jupyter environment, please rerun this cell to show the HTML representation or trust the notebook. <br />On GitHub, the HTML representation is unable to render, please try loading this page with nbviewer.org.</b></div><div class=\"sk-container\" hidden><div class=\"sk-item sk-dashed-wrapped\"><div class=\"sk-label-container\"><div class=\"sk-label sk-toggleable\"><input class=\"sk-toggleable__control sk-hidden--visually\" id=\"sk-estimator-id-1\" type=\"checkbox\" ><label for=\"sk-estimator-id-1\" class=\"sk-toggleable__label sk-toggleable__label-arrow\">Pipeline</label><div class=\"sk-toggleable__content\"><pre>Pipeline(steps=[(&#x27;scaler&#x27;, StandardScaler()),\n",
       "                (&#x27;model&#x27;,\n",
       "                 RandomForestRegressor(n_estimators=200, random_state=42))])</pre></div></div></div><div class=\"sk-serial\"><div class=\"sk-item\"><div class=\"sk-estimator sk-toggleable\"><input class=\"sk-toggleable__control sk-hidden--visually\" id=\"sk-estimator-id-2\" type=\"checkbox\" ><label for=\"sk-estimator-id-2\" class=\"sk-toggleable__label sk-toggleable__label-arrow\">StandardScaler</label><div class=\"sk-toggleable__content\"><pre>StandardScaler()</pre></div></div></div><div class=\"sk-item\"><div class=\"sk-estimator sk-toggleable\"><input class=\"sk-toggleable__control sk-hidden--visually\" id=\"sk-estimator-id-3\" type=\"checkbox\" ><label for=\"sk-estimator-id-3\" class=\"sk-toggleable__label sk-toggleable__label-arrow\">RandomForestRegressor</label><div class=\"sk-toggleable__content\"><pre>RandomForestRegressor(n_estimators=200, random_state=42)</pre></div></div></div></div></div></div></div>"
      ],
      "text/plain": [
       "Pipeline(steps=[('scaler', StandardScaler()),\n",
       "                ('model',\n",
       "                 RandomForestRegressor(n_estimators=200, random_state=42))])"
      ]
     },
     "execution_count": 13,
     "metadata": {},
     "output_type": "execute_result"
    }
   ],
   "source": [
    "pipeline.fit(X_train, y_train)"
   ]
  },
  {
   "cell_type": "code",
   "execution_count": 14,
   "id": "3d930529",
   "metadata": {
    "execution": {
     "iopub.execute_input": "2025-03-07T16:20:46.750961Z",
     "iopub.status.busy": "2025-03-07T16:20:46.750612Z",
     "iopub.status.idle": "2025-03-07T16:20:47.028382Z",
     "shell.execute_reply": "2025-03-07T16:20:47.027255Z"
    },
    "papermill": {
     "duration": 0.287819,
     "end_time": "2025-03-07T16:20:47.030367",
     "exception": false,
     "start_time": "2025-03-07T16:20:46.742548",
     "status": "completed"
    },
    "tags": []
   },
   "outputs": [],
   "source": [
    "y_pred = pipeline.predict(X_test)"
   ]
  },
  {
   "cell_type": "code",
   "execution_count": null,
   "id": "8202e465",
   "metadata": {
    "papermill": {
     "duration": 0.006691,
     "end_time": "2025-03-07T16:20:47.044005",
     "exception": false,
     "start_time": "2025-03-07T16:20:47.037314",
     "status": "completed"
    },
    "tags": []
   },
   "outputs": [],
   "source": []
  },
  {
   "cell_type": "code",
   "execution_count": 15,
   "id": "7f452904",
   "metadata": {
    "execution": {
     "iopub.execute_input": "2025-03-07T16:20:47.058890Z",
     "iopub.status.busy": "2025-03-07T16:20:47.058461Z",
     "iopub.status.idle": "2025-03-07T16:20:47.341542Z",
     "shell.execute_reply": "2025-03-07T16:20:47.340474Z"
    },
    "papermill": {
     "duration": 0.292394,
     "end_time": "2025-03-07T16:20:47.343170",
     "exception": false,
     "start_time": "2025-03-07T16:20:47.050776",
     "status": "completed"
    },
    "tags": []
   },
   "outputs": [
    {
     "data": {
      "text/plain": [
       "0.7913319059498647"
      ]
     },
     "execution_count": 15,
     "metadata": {},
     "output_type": "execute_result"
    }
   ],
   "source": [
    "pipeline.score(X_test, y_test)"
   ]
  },
  {
   "cell_type": "code",
   "execution_count": 16,
   "id": "3d948d30",
   "metadata": {
    "execution": {
     "iopub.execute_input": "2025-03-07T16:20:47.358297Z",
     "iopub.status.busy": "2025-03-07T16:20:47.357904Z",
     "iopub.status.idle": "2025-03-07T16:20:47.367375Z",
     "shell.execute_reply": "2025-03-07T16:20:47.366216Z"
    },
    "papermill": {
     "duration": 0.018822,
     "end_time": "2025-03-07T16:20:47.369070",
     "exception": false,
     "start_time": "2025-03-07T16:20:47.350248",
     "status": "completed"
    },
    "tags": []
   },
   "outputs": [
    {
     "name": "stdout",
     "output_type": "stream",
     "text": [
      "MAE: 0.3410\n",
      "MSE: 0.2764\n",
      "RMSE: 0.5258\n",
      "R² Score: 0.7913\n"
     ]
    }
   ],
   "source": [
    "from sklearn.metrics import mean_absolute_error, mean_squared_error, r2_score\n",
    "import numpy as np\n",
    "\n",
    "# Evaluate model performance\n",
    "mae = mean_absolute_error(y_test, y_pred)\n",
    "mse = mean_squared_error(y_test, y_pred)\n",
    "rmse = np.sqrt(mse)\n",
    "r2 = r2_score(y_test, y_pred)\n",
    "\n",
    "print(f\"MAE: {mae:.4f}\")\n",
    "print(f\"MSE: {mse:.4f}\")\n",
    "print(f\"RMSE: {rmse:.4f}\")\n",
    "print(f\"R² Score: {r2:.4f}\")\n"
   ]
  },
  {
   "cell_type": "code",
   "execution_count": null,
   "id": "348d3716",
   "metadata": {
    "papermill": {
     "duration": 0.00673,
     "end_time": "2025-03-07T16:20:47.383099",
     "exception": false,
     "start_time": "2025-03-07T16:20:47.376369",
     "status": "completed"
    },
    "tags": []
   },
   "outputs": [],
   "source": []
  },
  {
   "cell_type": "code",
   "execution_count": null,
   "id": "ee76f23c",
   "metadata": {
    "papermill": {
     "duration": 0.006791,
     "end_time": "2025-03-07T16:20:47.396878",
     "exception": false,
     "start_time": "2025-03-07T16:20:47.390087",
     "status": "completed"
    },
    "tags": []
   },
   "outputs": [],
   "source": []
  }
 ],
 "metadata": {
  "kaggle": {
   "accelerator": "none",
   "dataSources": [],
   "dockerImageVersionId": 30918,
   "isGpuEnabled": false,
   "isInternetEnabled": true,
   "language": "python",
   "sourceType": "notebook"
  },
  "kernelspec": {
   "display_name": "Python 3",
   "language": "python",
   "name": "python3"
  },
  "language_info": {
   "codemirror_mode": {
    "name": "ipython",
    "version": 3
   },
   "file_extension": ".py",
   "mimetype": "text/x-python",
   "name": "python",
   "nbconvert_exporter": "python",
   "pygments_lexer": "ipython3",
   "version": "3.10.12"
  },
  "papermill": {
   "default_parameters": {},
   "duration": 51.378507,
   "end_time": "2025-03-07T16:20:48.224606",
   "environment_variables": {},
   "exception": null,
   "input_path": "__notebook__.ipynb",
   "output_path": "__notebook__.ipynb",
   "parameters": {},
   "start_time": "2025-03-07T16:19:56.846099",
   "version": "2.6.0"
  }
 },
 "nbformat": 4,
 "nbformat_minor": 5
}
